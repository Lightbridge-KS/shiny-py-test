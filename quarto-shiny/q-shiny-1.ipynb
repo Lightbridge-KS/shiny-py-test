{
  "cells": [
    {
      "cell_type": "raw",
      "metadata": {},
      "source": [
        "---\n",
        "title: \"Test Shiny Quarto\"\n",
        "format: html\n",
        "server: shiny\n",
        "---"
      ],
      "id": "a8ef7c79"
    },
    {
      "cell_type": "code",
      "metadata": {},
      "source": [
        "from shiny import App, render, reactive\n",
        "from shiny.express import input, ui"
      ],
      "id": "d08ae21a",
      "execution_count": null,
      "outputs": []
    },
    {
      "cell_type": "code",
      "metadata": {},
      "source": [
        "ui.input_radio_buttons(  \n",
        "        \"radio_1\",  \n",
        "        \"Radio buttons\",  \n",
        "        {\"1\": \"Option 1\", \"2\": \"Option 2\", \"3\": \"Option 3\"},  \n",
        ") "
      ],
      "id": "63fa59ff",
      "execution_count": null,
      "outputs": []
    },
    {
      "cell_type": "code",
      "metadata": {},
      "source": [
        "ui.input_radio_buttons(  \n",
        "        \"radio_2\",  \n",
        "        \"Radio buttons\",  \n",
        "        {\"1\": \"Option 1\", \"2\": \"Option 2\", \"3\": \"Option 3\"},  \n",
        ") "
      ],
      "id": "a7943d1f",
      "execution_count": null,
      "outputs": []
    },
    {
      "cell_type": "code",
      "metadata": {},
      "source": [
        "ui.input_numeric(\"numeric\", \"Numeric input\", 1, min=1, max=10) "
      ],
      "id": "15db2efa",
      "execution_count": null,
      "outputs": []
    },
    {
      "cell_type": "markdown",
      "metadata": {},
      "source": [
        "## Checkbox\n"
      ],
      "id": "d1ff1eb2"
    },
    {
      "cell_type": "code",
      "metadata": {},
      "source": [
        "ui.input_checkbox_group(  \n",
        "    \"checkbox_group\",  \n",
        "    \"Checkbox group\",  \n",
        "    {  \n",
        "        \"a\": \"A\",  \n",
        "        \"b\": \"B\",  \n",
        "        \"c\": \"C\",  \n",
        "    },  \n",
        ")  "
      ],
      "id": "adbbc64e",
      "execution_count": null,
      "outputs": []
    },
    {
      "cell_type": "markdown",
      "metadata": {},
      "source": [
        "## Verbatim\n"
      ],
      "id": "94c93b53"
    },
    {
      "cell_type": "code",
      "metadata": {},
      "source": [
        "@render.text\n",
        "def output_debug():\n",
        "    return f\"{input.numeric()} has {type(input.numeric())}\""
      ],
      "id": "1b7336a1",
      "execution_count": null,
      "outputs": []
    },
    {
      "cell_type": "markdown",
      "metadata": {},
      "source": [
        "## Radiobutton\n"
      ],
      "id": "de07aa30"
    },
    {
      "cell_type": "code",
      "metadata": {},
      "source": [
        "@reactive.calc\n",
        "def add_checkboxes():\n",
        "    return int(input.radio_1()) + int(input.radio_2())"
      ],
      "id": "91a590e4",
      "execution_count": null,
      "outputs": []
    },
    {
      "cell_type": "code",
      "metadata": {},
      "source": [
        "@render.ui\n",
        "def radio_value():\n",
        "    return add_checkboxes()"
      ],
      "id": "f195fef7",
      "execution_count": null,
      "outputs": []
    },
    {
      "cell_type": "markdown",
      "metadata": {},
      "source": [
        "## Checkboxes\n"
      ],
      "id": "ce2a8436"
    },
    {
      "cell_type": "code",
      "metadata": {},
      "source": [
        "@render.text\n",
        "def checkbox_group_value():\n",
        "    return \", \".join(input.checkbox_group())"
      ],
      "id": "8199de60",
      "execution_count": null,
      "outputs": []
    },
    {
      "cell_type": "code",
      "metadata": {},
      "source": [
        "def server(input, output, session):\n",
        "    @render.ui\n",
        "    def value():\n",
        "        return input.checkbox()\n",
        "\n",
        "app = App(app_ui, server)"
      ],
      "id": "860a53de",
      "execution_count": null,
      "outputs": []
    }
  ],
  "metadata": {
    "kernelspec": {
      "name": "python3",
      "language": "python",
      "display_name": "Python 3 (ipykernel)"
    }
  },
  "nbformat": 4,
  "nbformat_minor": 5
}